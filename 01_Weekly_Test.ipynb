{
 "cells": [
  {
   "cell_type": "markdown",
   "id": "8cb63748",
   "metadata": {},
   "source": [
    "# Weekly_Test"
   ]
  },
  {
   "cell_type": "markdown",
   "id": "803da983",
   "metadata": {},
   "source": [
    "##### 1) Write a python program to reverse a string. (str = 'abcd')"
   ]
  },
  {
   "cell_type": "code",
   "execution_count": 19,
   "id": "ff51e2bb",
   "metadata": {},
   "outputs": [],
   "source": [
    "str = \"abcd\""
   ]
  },
  {
   "cell_type": "code",
   "execution_count": 20,
   "id": "ba3f5d93",
   "metadata": {},
   "outputs": [
    {
     "data": {
      "text/plain": [
       "str"
      ]
     },
     "execution_count": 20,
     "metadata": {},
     "output_type": "execute_result"
    }
   ],
   "source": [
    "type(str)"
   ]
  },
  {
   "cell_type": "code",
   "execution_count": 37,
   "id": "07de128a",
   "metadata": {},
   "outputs": [],
   "source": [
    "str1 = str[::-1]"
   ]
  },
  {
   "cell_type": "code",
   "execution_count": 38,
   "id": "5153ce6a",
   "metadata": {},
   "outputs": [
    {
     "data": {
      "text/plain": [
       "'dcba'"
      ]
     },
     "execution_count": 38,
     "metadata": {},
     "output_type": "execute_result"
    }
   ],
   "source": [
    "str1"
   ]
  },
  {
   "cell_type": "markdown",
   "id": "58d3bb28",
   "metadata": {},
   "source": [
    "##### 2) Write a python program to check if \"name\" is available in present in the following text. txt = \"My name is xyz.\""
   ]
  },
  {
   "cell_type": "code",
   "execution_count": 40,
   "id": "cfb5d15d",
   "metadata": {},
   "outputs": [],
   "source": [
    "text = \"My name is xyz\""
   ]
  },
  {
   "cell_type": "code",
   "execution_count": 89,
   "id": "984c0a17",
   "metadata": {},
   "outputs": [],
   "source": [
    "text_split = text.split(\" \")"
   ]
  },
  {
   "cell_type": "code",
   "execution_count": 90,
   "id": "73572fb4",
   "metadata": {},
   "outputs": [
    {
     "data": {
      "text/plain": [
       "['My', 'name', 'is', 'xyz']"
      ]
     },
     "execution_count": 90,
     "metadata": {},
     "output_type": "execute_result"
    }
   ],
   "source": [
    "text_split"
   ]
  },
  {
   "cell_type": "code",
   "execution_count": 91,
   "id": "8a0455ef",
   "metadata": {},
   "outputs": [
    {
     "name": "stdout",
     "output_type": "stream",
     "text": [
      "not found\n",
      "found\n",
      "not found\n",
      "not found\n"
     ]
    }
   ],
   "source": [
    "for i in text_split:\n",
    "    if \"name\" == i:\n",
    "        print(\"found\")\n",
    "    else:\n",
    "        print(\"not found\")"
   ]
  },
  {
   "cell_type": "markdown",
   "id": "7413c3f5",
   "metadata": {},
   "source": [
    "##### 3) Which method is used to add an element to the list?"
   ]
  },
  {
   "cell_type": "code",
   "execution_count": 27,
   "id": "851560c0",
   "metadata": {},
   "outputs": [],
   "source": [
    "lists = [1, 2, 3, 4]"
   ]
  },
  {
   "cell_type": "code",
   "execution_count": 28,
   "id": "64d2af0b",
   "metadata": {},
   "outputs": [],
   "source": [
    "lists.append(5) # adding elements at the last position of the list"
   ]
  },
  {
   "cell_type": "code",
   "execution_count": 29,
   "id": "da0c612d",
   "metadata": {},
   "outputs": [
    {
     "data": {
      "text/plain": [
       "[1, 2, 3, 4, 5]"
      ]
     },
     "execution_count": 29,
     "metadata": {},
     "output_type": "execute_result"
    }
   ],
   "source": [
    "lists"
   ]
  },
  {
   "cell_type": "code",
   "execution_count": 32,
   "id": "b1841f13",
   "metadata": {},
   "outputs": [],
   "source": [
    "lists.insert(2,7) # adding element at particular position"
   ]
  },
  {
   "cell_type": "code",
   "execution_count": 34,
   "id": "95dadcce",
   "metadata": {},
   "outputs": [
    {
     "data": {
      "text/plain": [
       "[1, 2, 7, 3, 4, 5, 2]"
      ]
     },
     "execution_count": 34,
     "metadata": {},
     "output_type": "execute_result"
    }
   ],
   "source": [
    "lists"
   ]
  },
  {
   "cell_type": "markdown",
   "id": "ccc6b2a4",
   "metadata": {},
   "source": [
    "##### 4) Write a python program to get the characters from position 2, and all the way to the end in any given string. str='abcdefgh'"
   ]
  },
  {
   "cell_type": "code",
   "execution_count": 85,
   "id": "e8834c5a",
   "metadata": {},
   "outputs": [],
   "source": [
    "str='abcdefgh'\n"
   ]
  },
  {
   "cell_type": "code",
   "execution_count": 86,
   "id": "88c556a9",
   "metadata": {},
   "outputs": [
    {
     "data": {
      "text/plain": [
       "'cdefgh'"
      ]
     },
     "execution_count": 86,
     "metadata": {},
     "output_type": "execute_result"
    }
   ],
   "source": [
    "str[2:]"
   ]
  },
  {
   "cell_type": "markdown",
   "id": "5238bab8",
   "metadata": {},
   "source": [
    "##### 5) Which method returns the string in upper case?"
   ]
  },
  {
   "cell_type": "code",
   "execution_count": 46,
   "id": "2ea6f76b",
   "metadata": {},
   "outputs": [
    {
     "data": {
      "text/plain": [
       "'ANYTHING'"
      ]
     },
     "execution_count": 46,
     "metadata": {},
     "output_type": "execute_result"
    }
   ],
   "source": [
    "str = \"anything\"\n",
    "\n",
    "str.upper()"
   ]
  },
  {
   "cell_type": "markdown",
   "id": "c1c179c3",
   "metadata": {},
   "source": [
    "##### Create a list and print alternate numbers using indexing."
   ]
  },
  {
   "cell_type": "code",
   "execution_count": 47,
   "id": "e53f788b",
   "metadata": {},
   "outputs": [],
   "source": [
    "lists = [1, 2, 7, 3, 4, 5, 2]"
   ]
  },
  {
   "cell_type": "code",
   "execution_count": 48,
   "id": "31a14468",
   "metadata": {},
   "outputs": [
    {
     "data": {
      "text/plain": [
       "1"
      ]
     },
     "execution_count": 48,
     "metadata": {},
     "output_type": "execute_result"
    }
   ],
   "source": [
    "lists[0]"
   ]
  },
  {
   "cell_type": "code",
   "execution_count": 49,
   "id": "60ac557f",
   "metadata": {},
   "outputs": [
    {
     "data": {
      "text/plain": [
       "2"
      ]
     },
     "execution_count": 49,
     "metadata": {},
     "output_type": "execute_result"
    }
   ],
   "source": [
    "lists[6]"
   ]
  },
  {
   "cell_type": "code",
   "execution_count": 51,
   "id": "51986e19",
   "metadata": {},
   "outputs": [
    {
     "data": {
      "text/plain": [
       "[1, 7, 4, 2]"
      ]
     },
     "execution_count": 51,
     "metadata": {},
     "output_type": "execute_result"
    }
   ],
   "source": [
    "lists[::2]"
   ]
  },
  {
   "cell_type": "markdown",
   "id": "54ea8fa8",
   "metadata": {},
   "source": [
    "##### 7) What is the difference between list and tuple?"
   ]
  },
  {
   "cell_type": "markdown",
   "id": "5ed574a8",
   "metadata": {},
   "source": [
    "list:\n",
    "1. list is muttable, means we able to add remove update operation on it\n",
    "2. list closed by square braces\n",
    "\n",
    "tuple:\n",
    "1. it is unmuttble, means we unable to change tuple\n",
    "2. it is closed by round braces\n",
    "3. it is not accepting duplicate value"
   ]
  },
  {
   "cell_type": "markdown",
   "id": "6ad20df2",
   "metadata": {},
   "source": [
    "##### 8) Sort the given list. [3,1,4,2,5,8,7]"
   ]
  },
  {
   "cell_type": "code",
   "execution_count": 52,
   "id": "3d5c666c",
   "metadata": {},
   "outputs": [],
   "source": [
    "lists = [3,1,4,2,5,8,7]"
   ]
  },
  {
   "cell_type": "code",
   "execution_count": 53,
   "id": "a9c56485",
   "metadata": {},
   "outputs": [],
   "source": [
    "lists.sort()"
   ]
  },
  {
   "cell_type": "code",
   "execution_count": 54,
   "id": "175c85f9",
   "metadata": {},
   "outputs": [
    {
     "data": {
      "text/plain": [
       "[1, 2, 3, 4, 5, 7, 8]"
      ]
     },
     "execution_count": 54,
     "metadata": {},
     "output_type": "execute_result"
    }
   ],
   "source": [
    "lists"
   ]
  },
  {
   "cell_type": "markdown",
   "id": "9ce50990",
   "metadata": {},
   "source": [
    "##### 9) Tuple are mutable or immutable?\n",
    " -- immutable"
   ]
  },
  {
   "cell_type": "markdown",
   "id": "125efec5",
   "metadata": {},
   "source": [
    "##### 10) Which method is used to add elements in set?"
   ]
  },
  {
   "cell_type": "code",
   "execution_count": 61,
   "id": "29b62417",
   "metadata": {},
   "outputs": [],
   "source": [
    "sets = {1, 2, 3, 4}"
   ]
  },
  {
   "cell_type": "code",
   "execution_count": 64,
   "id": "bb296b92",
   "metadata": {},
   "outputs": [],
   "source": [
    "sets.add(5)"
   ]
  },
  {
   "cell_type": "markdown",
   "id": "52bcb1ba",
   "metadata": {},
   "source": [
    "##### 11 __ in set not allowed duplicate elements"
   ]
  },
  {
   "cell_type": "markdown",
   "id": "5d82c501",
   "metadata": {},
   "source": [
    "##### 12"
   ]
  },
  {
   "cell_type": "code",
   "execution_count": 65,
   "id": "69d7fbbc",
   "metadata": {},
   "outputs": [],
   "source": [
    " ls = [1,2,3,4,5,6,7,8,9,0]"
   ]
  },
  {
   "cell_type": "code",
   "execution_count": 67,
   "id": "89aff155",
   "metadata": {},
   "outputs": [
    {
     "name": "stdout",
     "output_type": "stream",
     "text": [
      "2\n",
      "4\n",
      "6\n",
      "8\n",
      "0\n"
     ]
    }
   ],
   "source": [
    "for i in ls:\n",
    "    if i%2==0:\n",
    "        print(i)\n",
    "    else:\n",
    "        continue"
   ]
  },
  {
   "cell_type": "markdown",
   "id": "ec8252cb",
   "metadata": {},
   "source": [
    "##### 13"
   ]
  },
  {
   "cell_type": "code",
   "execution_count": 68,
   "id": "11aa3f5d",
   "metadata": {},
   "outputs": [],
   "source": [
    "input_str = 'Ravi_Kumar_003'"
   ]
  },
  {
   "cell_type": "code",
   "execution_count": 69,
   "id": "f2cb9ee1",
   "metadata": {},
   "outputs": [
    {
     "data": {
      "text/plain": [
       "['Ravi', 'Kumar', '003']"
      ]
     },
     "execution_count": 69,
     "metadata": {},
     "output_type": "execute_result"
    }
   ],
   "source": [
    "input_str.split(\"_\")"
   ]
  },
  {
   "cell_type": "code",
   "execution_count": 71,
   "id": "55f60722",
   "metadata": {},
   "outputs": [],
   "source": [
    "second_name= input_str[1] \n",
    "first_name=  input_str[0]\n",
    "customer_code = input_str[2]"
   ]
  },
  {
   "cell_type": "markdown",
   "id": "3a9727ef",
   "metadata": {},
   "source": [
    "##### 14"
   ]
  },
  {
   "cell_type": "code",
   "execution_count": 75,
   "id": "d421a62e",
   "metadata": {},
   "outputs": [],
   "source": [
    " ls = [1,2,3,4,5,6,7,8,9,0]"
   ]
  },
  {
   "cell_type": "code",
   "execution_count": 73,
   "id": "67eb290c",
   "metadata": {},
   "outputs": [
    {
     "data": {
      "text/plain": [
       "0"
      ]
     },
     "execution_count": 73,
     "metadata": {},
     "output_type": "execute_result"
    }
   ],
   "source": [
    "ls.pop() #access with remove last element"
   ]
  },
  {
   "cell_type": "code",
   "execution_count": 77,
   "id": "9cf728b7",
   "metadata": {},
   "outputs": [
    {
     "data": {
      "text/plain": [
       "0"
      ]
     },
     "execution_count": 77,
     "metadata": {},
     "output_type": "execute_result"
    }
   ],
   "source": [
    "ls[-1] # only abble to access"
   ]
  },
  {
   "cell_type": "markdown",
   "id": "d135f6d1",
   "metadata": {},
   "source": [
    "##### 15"
   ]
  },
  {
   "cell_type": "code",
   "execution_count": 78,
   "id": "37fbe913",
   "metadata": {},
   "outputs": [],
   "source": [
    "ls = [1,2,3,4,5,6,7,8,9,0]"
   ]
  },
  {
   "cell_type": "code",
   "execution_count": 80,
   "id": "696afaed",
   "metadata": {},
   "outputs": [],
   "source": [
    "even_num = [x for x in ls if x%2==0]"
   ]
  },
  {
   "cell_type": "code",
   "execution_count": 82,
   "id": "9db4d1b5",
   "metadata": {},
   "outputs": [
    {
     "data": {
      "text/plain": [
       "[2, 4, 6, 8, 0]"
      ]
     },
     "execution_count": 82,
     "metadata": {},
     "output_type": "execute_result"
    }
   ],
   "source": [
    "even_num"
   ]
  },
  {
   "cell_type": "markdown",
   "id": "5ca90b23",
   "metadata": {},
   "source": [
    "##### 16"
   ]
  },
  {
   "cell_type": "code",
   "execution_count": 83,
   "id": "c98ca949",
   "metadata": {},
   "outputs": [],
   "source": [
    "str='abcdefgh'"
   ]
  },
  {
   "cell_type": "code",
   "execution_count": 84,
   "id": "bac56a7f",
   "metadata": {},
   "outputs": [
    {
     "data": {
      "text/plain": [
       "8"
      ]
     },
     "execution_count": 84,
     "metadata": {},
     "output_type": "execute_result"
    }
   ],
   "source": [
    "len(str)"
   ]
  },
  {
   "cell_type": "code",
   "execution_count": null,
   "id": "ffbd1359",
   "metadata": {},
   "outputs": [],
   "source": []
  }
 ],
 "metadata": {
  "kernelspec": {
   "display_name": "Python 3 (ipykernel)",
   "language": "python",
   "name": "python3"
  },
  "language_info": {
   "codemirror_mode": {
    "name": "ipython",
    "version": 3
   },
   "file_extension": ".py",
   "mimetype": "text/x-python",
   "name": "python",
   "nbconvert_exporter": "python",
   "pygments_lexer": "ipython3",
   "version": "3.11.2"
  }
 },
 "nbformat": 4,
 "nbformat_minor": 5
}
