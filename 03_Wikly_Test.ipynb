{
 "cells": [
  {
   "cell_type": "code",
   "execution_count": 2,
   "metadata": {
    "id": "AUKCnX0mwirZ"
   },
   "outputs": [],
   "source": [
    "# 1.Write a python program to print the numpy array of size 3*4 containing all the values as 1.\n",
    "\n",
    "import numpy as np\n",
    "\n",
    "a = np.ones((3,4), dtype='int32')"
   ]
  },
  {
   "cell_type": "code",
   "execution_count": 3,
   "metadata": {
    "colab": {
     "base_uri": "https://localhost:8080/"
    },
    "id": "rtX-zK0BwqYU",
    "outputId": "e2e06f3a-e5b1-4fb5-e1f3-ee43fc2ab665"
   },
   "outputs": [
    {
     "data": {
      "text/plain": [
       "array([[1, 1, 1, 1],\n",
       "       [1, 1, 1, 1],\n",
       "       [1, 1, 1, 1]])"
      ]
     },
     "execution_count": 3,
     "metadata": {},
     "output_type": "execute_result"
    }
   ],
   "source": [
    "a"
   ]
  },
  {
   "cell_type": "code",
   "execution_count": 4,
   "metadata": {
    "id": "iBZ0ELJwwrLI"
   },
   "outputs": [],
   "source": [
    "# 2. Create a numpy array using inbuilt function and reshape it.\n",
    "\n",
    "b = a.reshape(4,3)"
   ]
  },
  {
   "cell_type": "code",
   "execution_count": 5,
   "metadata": {
    "colab": {
     "base_uri": "https://localhost:8080/"
    },
    "id": "26qYcbi9w7td",
    "outputId": "6788ac4c-cd78-4faf-e292-3a0686f00a4e"
   },
   "outputs": [
    {
     "data": {
      "text/plain": [
       "array([[1., 1., 1.],\n",
       "       [1., 1., 1.],\n",
       "       [1., 1., 1.],\n",
       "       [1., 1., 1.]])"
      ]
     },
     "execution_count": 5,
     "metadata": {},
     "output_type": "execute_result"
    }
   ],
   "source": [
    "b"
   ]
  },
  {
   "cell_type": "code",
   "execution_count": 6,
   "metadata": {
    "id": "VGwTRWbFw8sT"
   },
   "outputs": [],
   "source": [
    "c = a.reshape(2,6)"
   ]
  },
  {
   "cell_type": "code",
   "execution_count": 7,
   "metadata": {
    "colab": {
     "base_uri": "https://localhost:8080/"
    },
    "id": "oFEcRutyxBwB",
    "outputId": "02e08fbe-2f23-4e1f-ab03-68edcf516a28"
   },
   "outputs": [
    {
     "data": {
      "text/plain": [
       "array([[1., 1., 1., 1., 1., 1.],\n",
       "       [1., 1., 1., 1., 1., 1.]])"
      ]
     },
     "execution_count": 7,
     "metadata": {},
     "output_type": "execute_result"
    }
   ],
   "source": [
    "c"
   ]
  },
  {
   "cell_type": "code",
   "execution_count": 8,
   "metadata": {
    "id": "lQBJ9GcsxCJp"
   },
   "outputs": [],
   "source": [
    "# 3. Write a python program to flatten a numpy array.\n",
    "\n",
    "flatt = c.flatten()"
   ]
  },
  {
   "cell_type": "code",
   "execution_count": 9,
   "metadata": {
    "colab": {
     "base_uri": "https://localhost:8080/"
    },
    "id": "WA6CE0hCxTwX",
    "outputId": "3ec37c73-fc56-4ccd-f4e5-b7e3532d77ee"
   },
   "outputs": [
    {
     "data": {
      "text/plain": [
       "array([1., 1., 1., 1., 1., 1., 1., 1., 1., 1., 1., 1.])"
      ]
     },
     "execution_count": 9,
     "metadata": {},
     "output_type": "execute_result"
    }
   ],
   "source": [
    "flatt"
   ]
  },
  {
   "cell_type": "code",
   "execution_count": 10,
   "metadata": {
    "colab": {
     "base_uri": "https://localhost:8080/"
    },
    "id": "RFafz9I6xVr1",
    "outputId": "05568d00-b203-4bed-b9cb-b67b14caa1b7"
   },
   "outputs": [
    {
     "data": {
      "text/plain": [
       "(12,)"
      ]
     },
     "execution_count": 10,
     "metadata": {},
     "output_type": "execute_result"
    }
   ],
   "source": [
    "flatt.shape"
   ]
  },
  {
   "cell_type": "code",
   "execution_count": 11,
   "metadata": {
    "id": "GUlri9nExYPK"
   },
   "outputs": [],
   "source": [
    "# 4. What is the Transpose function in numpy used for?\n",
    "\n",
    "# transpose useto convert any array or matrix into their row and colmn inter changed\n",
    "arr1 = np.array([[1,2,3,4,5],[6,5,4,3,2],[3,4,5,6,7]])"
   ]
  },
  {
   "cell_type": "code",
   "execution_count": 12,
   "metadata": {
    "id": "SFffAIDTxrJZ"
   },
   "outputs": [],
   "source": [
    "arr2 = arr1.transpose()"
   ]
  },
  {
   "cell_type": "code",
   "execution_count": 13,
   "metadata": {
    "colab": {
     "base_uri": "https://localhost:8080/"
    },
    "id": "epaeysWvx2-_",
    "outputId": "6d914ea9-a3be-4c47-d4ad-6ac3d1a13d23"
   },
   "outputs": [
    {
     "data": {
      "text/plain": [
       "array([[1, 6, 3],\n",
       "       [2, 5, 4],\n",
       "       [3, 4, 5],\n",
       "       [4, 3, 6],\n",
       "       [5, 2, 7]])"
      ]
     },
     "execution_count": 13,
     "metadata": {},
     "output_type": "execute_result"
    }
   ],
   "source": [
    "arr2"
   ]
  },
  {
   "cell_type": "code",
   "execution_count": 14,
   "metadata": {
    "colab": {
     "base_uri": "https://localhost:8080/"
    },
    "id": "Tqy_37jax4Rf",
    "outputId": "3d2774d4-9dbf-49c3-e992-18cbf4a37b4a"
   },
   "outputs": [
    {
     "data": {
      "text/plain": [
       "array([[1, 2, 3, 4, 5],\n",
       "       [6, 5, 4, 3, 2],\n",
       "       [3, 4, 5, 6, 7]])"
      ]
     },
     "execution_count": 14,
     "metadata": {},
     "output_type": "execute_result"
    }
   ],
   "source": [
    "arr1"
   ]
  },
  {
   "cell_type": "code",
   "execution_count": 15,
   "metadata": {
    "id": "nVloWAqgx5UR"
   },
   "outputs": [],
   "source": [
    "# 5. Create two numpy arrays and perform any three arithmetic operations on it.\n",
    "\n",
    "  arr1 = np.array([[1,2,3,4,5],[6,5,4,3,2],[3,4,5,6,7]])\n",
    "  arr2 = np.array([[1,2,3,4,5],[1,2,3,4,5],[1,2,3,4,5]])"
   ]
  },
  {
   "cell_type": "code",
   "execution_count": 16,
   "metadata": {
    "id": "xuYCKIW9yXpN"
   },
   "outputs": [],
   "source": [
    "arr3 = np.add(arr1, arr2)"
   ]
  },
  {
   "cell_type": "code",
   "execution_count": 17,
   "metadata": {
    "colab": {
     "base_uri": "https://localhost:8080/"
    },
    "id": "v55N9v5gyeMB",
    "outputId": "01d2eb48-8a3b-4323-cb79-2f7d8f753639"
   },
   "outputs": [
    {
     "data": {
      "text/plain": [
       "array([[ 2,  4,  6,  8, 10],\n",
       "       [ 7,  7,  7,  7,  7],\n",
       "       [ 4,  6,  8, 10, 12]])"
      ]
     },
     "execution_count": 17,
     "metadata": {},
     "output_type": "execute_result"
    }
   ],
   "source": [
    "arr3"
   ]
  },
  {
   "cell_type": "code",
   "execution_count": 19,
   "metadata": {
    "id": "PBQ-pFKBygSv"
   },
   "outputs": [],
   "source": [
    "arr3 = np.subtract(arr1,arr2)"
   ]
  },
  {
   "cell_type": "code",
   "execution_count": 20,
   "metadata": {
    "colab": {
     "base_uri": "https://localhost:8080/"
    },
    "id": "jFNc4ojIynFw",
    "outputId": "13d7381f-f03b-4743-d840-b09b3172213d"
   },
   "outputs": [
    {
     "data": {
      "text/plain": [
       "array([[ 0,  0,  0,  0,  0],\n",
       "       [ 5,  3,  1, -1, -3],\n",
       "       [ 2,  2,  2,  2,  2]])"
      ]
     },
     "execution_count": 20,
     "metadata": {},
     "output_type": "execute_result"
    }
   ],
   "source": [
    "arr3"
   ]
  },
  {
   "cell_type": "code",
   "execution_count": 21,
   "metadata": {
    "id": "au2w82xfyszJ"
   },
   "outputs": [],
   "source": [
    "arr3 = 3*arr1"
   ]
  },
  {
   "cell_type": "code",
   "execution_count": 22,
   "metadata": {
    "colab": {
     "base_uri": "https://localhost:8080/"
    },
    "id": "SHmBA75gy0LJ",
    "outputId": "4400919c-3654-4465-f0af-88e6dbee4034"
   },
   "outputs": [
    {
     "data": {
      "text/plain": [
       "array([[ 3,  6,  9, 12, 15],\n",
       "       [18, 15, 12,  9,  6],\n",
       "       [ 9, 12, 15, 18, 21]])"
      ]
     },
     "execution_count": 22,
     "metadata": {},
     "output_type": "execute_result"
    }
   ],
   "source": [
    "arr3"
   ]
  },
  {
   "cell_type": "code",
   "execution_count": 23,
   "metadata": {
    "id": "7t-V8jgAy1_J"
   },
   "outputs": [],
   "source": [
    "arr3 = np.multiply(arr1, 3)"
   ]
  },
  {
   "cell_type": "code",
   "execution_count": 24,
   "metadata": {
    "colab": {
     "base_uri": "https://localhost:8080/"
    },
    "id": "wTM4qry2y6XE",
    "outputId": "b125a257-aa10-4a78-cb7c-7fd1b18c46ae"
   },
   "outputs": [
    {
     "data": {
      "text/plain": [
       "array([[ 3,  6,  9, 12, 15],\n",
       "       [18, 15, 12,  9,  6],\n",
       "       [ 9, 12, 15, 18, 21]])"
      ]
     },
     "execution_count": 24,
     "metadata": {},
     "output_type": "execute_result"
    }
   ],
   "source": [
    "arr3"
   ]
  },
  {
   "cell_type": "code",
   "execution_count": 26,
   "metadata": {
    "id": "BmSfuRMzy7rO"
   },
   "outputs": [],
   "source": [
    "# 6. Write a python program to create a numpy array and iterate over its elements.\n",
    "\n",
    "arr1 = np.array([[1,2,3,4,5],[6,5,4,3,2],[3,4,5,6,7]])"
   ]
  },
  {
   "cell_type": "code",
   "execution_count": 27,
   "metadata": {
    "colab": {
     "base_uri": "https://localhost:8080/"
    },
    "id": "VpJOsMayy-1j",
    "outputId": "7373640d-f64b-4644-f03a-78a7df2a53ba"
   },
   "outputs": [
    {
     "name": "stdout",
     "output_type": "stream",
     "text": [
      "[1 2 3 4 5]\n",
      "[6 5 4 3 2]\n",
      "[3 4 5 6 7]\n"
     ]
    }
   ],
   "source": [
    "for i in arr1:\n",
    "  print(i)"
   ]
  },
  {
   "cell_type": "code",
   "execution_count": 28,
   "metadata": {
    "colab": {
     "base_uri": "https://localhost:8080/"
    },
    "id": "kdzYHQj6zIuo",
    "outputId": "e2aa9763-e78e-4ad6-d8a6-6535ead0348e"
   },
   "outputs": [
    {
     "name": "stdout",
     "output_type": "stream",
     "text": [
      "1\n",
      "2\n",
      "3\n",
      "4\n",
      "5\n",
      "6\n",
      "5\n",
      "4\n",
      "3\n",
      "2\n",
      "3\n",
      "4\n",
      "5\n",
      "6\n",
      "7\n"
     ]
    }
   ],
   "source": [
    "for i in arr1:\n",
    "  for j in i:\n",
    "    print(j)"
   ]
  },
  {
   "cell_type": "code",
   "execution_count": 33,
   "metadata": {
    "colab": {
     "base_uri": "https://localhost:8080/"
    },
    "id": "WsuPv_EUzfLY",
    "outputId": "f5f24c92-ff37-4def-eead-424e92965e87"
   },
   "outputs": [
    {
     "name": "stdout",
     "output_type": "stream",
     "text": [
      "[1 2 3 4 5] 0\n",
      "[6 5 4 3 2] 1\n",
      "[3 4 5 6 7] 2\n"
     ]
    }
   ],
   "source": [
    "# also we have to fetching by index\n",
    "for i in range(len(arr1)):\n",
    "  print(arr1[i], i)\n"
   ]
  },
  {
   "cell_type": "code",
   "execution_count": 37,
   "metadata": {
    "colab": {
     "base_uri": "https://localhost:8080/"
    },
    "id": "ezWbx_y3zk0v",
    "outputId": "3386e6bf-f127-4d5a-9187-9a6ceef002c1"
   },
   "outputs": [
    {
     "name": "stdout",
     "output_type": "stream",
     "text": [
      "1 0 0\n",
      "2 0 1\n",
      "3 0 2\n",
      "4 0 3\n",
      "5 0 4\n",
      "6 1 0\n",
      "5 1 1\n",
      "4 1 2\n",
      "3 1 3\n",
      "2 1 4\n",
      "3 2 0\n",
      "4 2 1\n",
      "5 2 2\n",
      "6 2 3\n",
      "7 2 4\n"
     ]
    }
   ],
   "source": [
    "for i in range(len(arr1)):\n",
    "  for j in range(len(arr1[i])):\n",
    "    print(arr1[i][j], i, j)"
   ]
  },
  {
   "cell_type": "code",
   "execution_count": 38,
   "metadata": {
    "id": "85E1zIgp0Pmo"
   },
   "outputs": [],
   "source": [
    "# 7. Write a python program to join two arrays.\n",
    "\n",
    "arr1 = np.array([[1,2,3,4,5],[6,5,4,3,2],[3,4,5,6,7]])\n",
    "arr2 = np.array([[1,2,3,4,5],[1,2,3,4,5],[1,2,3,4,5]])"
   ]
  },
  {
   "cell_type": "code",
   "execution_count": 50,
   "metadata": {
    "colab": {
     "base_uri": "https://localhost:8080/"
    },
    "id": "atRgg2BA0pYf",
    "outputId": "474c2f77-6858-4a2b-b8e7-026fd10e2925"
   },
   "outputs": [
    {
     "data": {
      "text/plain": [
       "array([[1, 2, 3, 4, 5],\n",
       "       [6, 5, 4, 3, 2],\n",
       "       [3, 4, 5, 6, 7],\n",
       "       [1, 2, 3, 4, 5],\n",
       "       [1, 2, 3, 4, 5],\n",
       "       [1, 2, 3, 4, 5]])"
      ]
     },
     "execution_count": 50,
     "metadata": {},
     "output_type": "execute_result"
    }
   ],
   "source": [
    "arr3 = np.concatenate((arr1, arr2))\n",
    "arr3"
   ]
  },
  {
   "cell_type": "code",
   "execution_count": 54,
   "metadata": {
    "colab": {
     "base_uri": "https://localhost:8080/"
    },
    "id": "N2YiYq-V0tav",
    "outputId": "e02a06d6-dc0a-4602-87d8-0fbb6d553a22"
   },
   "outputs": [
    {
     "data": {
      "text/plain": [
       "array([  1.,  12.,  23.,  34.,  45.,  56.,  67.,  78.,  89., 100.])"
      ]
     },
     "execution_count": 54,
     "metadata": {},
     "output_type": "execute_result"
    }
   ],
   "source": [
    "# 8. Write a python program to create sequence of evenly spaced values within an interval.\n",
    "\n",
    "\n",
    "spaced_ar = np.linspace(1, 100, 10)\n",
    "spaced_ar"
   ]
  },
  {
   "cell_type": "code",
   "execution_count": 59,
   "metadata": {
    "id": "nApkTe3Z1iKE"
   },
   "outputs": [],
   "source": [
    "# 9. Write a python program to print sum of two numpy arrays column-wise.\n",
    "\n",
    "arr1 = np.array([[1,2,3,4,5],[6,5,4,3,2],[3,4,5,6,7]])"
   ]
  },
  {
   "cell_type": "code",
   "execution_count": 62,
   "metadata": {
    "id": "dBJRRpHk1laU"
   },
   "outputs": [],
   "source": [
    "arr3 = arr1.sum(axis=1)"
   ]
  },
  {
   "cell_type": "code",
   "execution_count": 63,
   "metadata": {
    "colab": {
     "base_uri": "https://localhost:8080/"
    },
    "id": "f1dlbp-q1sHk",
    "outputId": "50412e56-3210-415d-b214-e88cdd184c3b"
   },
   "outputs": [
    {
     "data": {
      "text/plain": [
       "array([15, 20, 25])"
      ]
     },
     "execution_count": 63,
     "metadata": {},
     "output_type": "execute_result"
    }
   ],
   "source": [
    "arr3"
   ]
  },
  {
   "cell_type": "code",
   "execution_count": 74,
   "metadata": {
    "id": "3-lNaEQp1zr3"
   },
   "outputs": [],
   "source": [
    "# 10. What is the difference between numpy flatten and ravel functions?\n",
    "\n",
    "# flatten in numpy used to create or convert any dimension array into one dimension array.\n"
   ]
  },
  {
   "cell_type": "code",
   "execution_count": 30,
   "metadata": {
    "id": "KY6CurrF3rYK"
   },
   "outputs": [],
   "source": [
    "# 11.  Write a python program that prints the squares of numbers in a given list using lambda function.\n",
    "\n",
    "lista = [1, 2, 3, 4, 5, 6]\n",
    "\n",
    "# squa = map(lambda list1: np.square(list1))\n",
    "squa = map(lambda list1: list1**2, lista)"
   ]
  },
  {
   "cell_type": "code",
   "execution_count": 31,
   "metadata": {
    "colab": {
     "base_uri": "https://localhost:8080/",
     "height": 252
    },
    "id": "fsWf_QJh3vsQ",
    "outputId": "ca88304a-c068-43ba-aebc-e6a1424029c3"
   },
   "outputs": [
    {
     "data": {
      "text/plain": [
       "[1, 4, 9, 16, 25, 36]"
      ]
     },
     "execution_count": 31,
     "metadata": {},
     "output_type": "execute_result"
    }
   ],
   "source": [
    "squa_list = list(squa)\n",
    "squa_list"
   ]
  },
  {
   "cell_type": "code",
   "execution_count": 32,
   "metadata": {
    "colab": {
     "base_uri": "https://localhost:8080/"
    },
    "id": "HYQ5VfF74DOf",
    "outputId": "596235cf-d0ab-4515-b3f6-20d684496922"
   },
   "outputs": [
    {
     "name": "stdout",
     "output_type": "stream",
     "text": [
      "1\n",
      "4\n",
      "9\n",
      "16\n",
      "25\n",
      "36\n"
     ]
    }
   ],
   "source": [
    "for i in squa_list:\n",
    "  print(i)"
   ]
  },
  {
   "cell_type": "code",
   "execution_count": 12,
   "metadata": {
    "id": "5XPMY2R74N0L"
   },
   "outputs": [],
   "source": [
    "# 12. Write a python program to illustrate the use of inheritance.\n",
    "\n",
    "class Car:\n",
    "  def __init__(self, model):\n",
    "    self.model = model\n",
    "\n",
    "  def speed():\n",
    "    print(\"Its running speed average 70kmph\")"
   ]
  },
  {
   "cell_type": "code",
   "execution_count": 13,
   "metadata": {
    "id": "npzR9VLh6DwF"
   },
   "outputs": [],
   "source": [
    "class Nano(Car):\n",
    "  def __init__(self, model, feature):\n",
    "    super().__init__(model)\n",
    "    self.feature = feature\n",
    "\n",
    "  def color():\n",
    "    ptint(\"Nano car has blue color\")\n",
    "\n",
    "  def info():\n",
    "    print()"
   ]
  },
  {
   "cell_type": "code",
   "execution_count": 14,
   "metadata": {
    "id": "tJlFGKnl6lyh"
   },
   "outputs": [],
   "source": [
    "NanoA = Nano(\"TATA\", \"35, light\")"
   ]
  },
  {
   "cell_type": "code",
   "execution_count": 16,
   "metadata": {
    "colab": {
     "base_uri": "https://localhost:8080/",
     "height": 36
    },
    "id": "-uw2G9pK6zqA",
    "outputId": "2ba383ad-717e-4c86-baab-d01e2cebe518"
   },
   "outputs": [
    {
     "data": {
      "application/vnd.google.colaboratory.intrinsic+json": {
       "type": "string"
      },
      "text/plain": [
       "'TATA'"
      ]
     },
     "execution_count": 16,
     "metadata": {},
     "output_type": "execute_result"
    }
   ],
   "source": [
    "NanoA.model"
   ]
  },
  {
   "cell_type": "code",
   "execution_count": 17,
   "metadata": {
    "colab": {
     "base_uri": "https://localhost:8080/",
     "height": 36
    },
    "id": "usC5e7YH62Ol",
    "outputId": "3a93349f-31d3-4eb1-d967-6e4cd93e5853"
   },
   "outputs": [
    {
     "data": {
      "application/vnd.google.colaboratory.intrinsic+json": {
       "type": "string"
      },
      "text/plain": [
       "'35, light'"
      ]
     },
     "execution_count": 17,
     "metadata": {},
     "output_type": "execute_result"
    }
   ],
   "source": [
    "NanoA.feature"
   ]
  },
  {
   "cell_type": "code",
   "execution_count": null,
   "metadata": {
    "id": "8J9neKcK685V"
   },
   "outputs": [],
   "source": []
  }
 ],
 "metadata": {
  "colab": {
   "provenance": []
  },
  "kernelspec": {
   "display_name": "Python 3 (ipykernel)",
   "language": "python",
   "name": "python3"
  },
  "language_info": {
   "codemirror_mode": {
    "name": "ipython",
    "version": 3
   },
   "file_extension": ".py",
   "mimetype": "text/x-python",
   "name": "python",
   "nbconvert_exporter": "python",
   "pygments_lexer": "ipython3",
   "version": "3.11.2"
  }
 },
 "nbformat": 4,
 "nbformat_minor": 1
}
