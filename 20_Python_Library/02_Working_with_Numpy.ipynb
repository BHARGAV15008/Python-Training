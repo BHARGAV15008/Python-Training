{
 "cells": [
  {
   "cell_type": "markdown",
   "id": "6fe9afd5",
   "metadata": {},
   "source": [
    "# Working with Numpy"
   ]
  },
  {
   "cell_type": "code",
   "execution_count": 2,
   "id": "71434bb1",
   "metadata": {},
   "outputs": [],
   "source": [
    "import numpy as np"
   ]
  },
  {
   "cell_type": "markdown",
   "id": "409e5f67",
   "metadata": {},
   "source": [
    "## "
   ]
  },
  {
   "cell_type": "code",
   "execution_count": 3,
   "id": "344f8ed2",
   "metadata": {},
   "outputs": [],
   "source": [
    "lists = [1, 2, 3, 4, 5, 6]\n",
    "list_array = np.array(lists)"
   ]
  },
  {
   "cell_type": "code",
   "execution_count": 4,
   "id": "67d83ffe",
   "metadata": {},
   "outputs": [
    {
     "name": "stdout",
     "output_type": "stream",
     "text": [
      "<class 'list'>\n"
     ]
    }
   ],
   "source": [
    "print(type(lists))"
   ]
  },
  {
   "cell_type": "code",
   "execution_count": 5,
   "id": "7aeea7db",
   "metadata": {},
   "outputs": [
    {
     "name": "stdout",
     "output_type": "stream",
     "text": [
      "<class 'numpy.ndarray'>\n"
     ]
    }
   ],
   "source": [
    "print(type(list_array))"
   ]
  },
  {
   "cell_type": "code",
   "execution_count": 6,
   "id": "3d7d8a2b",
   "metadata": {},
   "outputs": [
    {
     "data": {
      "text/plain": [
       "1"
      ]
     },
     "execution_count": 6,
     "metadata": {},
     "output_type": "execute_result"
    }
   ],
   "source": [
    "list_array.ndim # checking for dimensions of arrays"
   ]
  },
  {
   "cell_type": "code",
   "execution_count": 10,
   "id": "04c75fd5",
   "metadata": {},
   "outputs": [],
   "source": [
    "l = []\n",
    "\n",
    "for i in range(0,10):\n",
    "    num = int(input(\"Enter : \"))\n",
    "    l.append(num)\n",
    "    \n",
    "l_array = np.array(l)"
   ]
  },
  {
   "cell_type": "code",
   "execution_count": 11,
   "id": "e51ce00b",
   "metadata": {},
   "outputs": [
    {
     "data": {
      "text/plain": [
       "array([ 3,  4, 45, 34, 23, 23, 34, 45, 34,  4])"
      ]
     },
     "execution_count": 11,
     "metadata": {},
     "output_type": "execute_result"
    }
   ],
   "source": [
    "l_array"
   ]
  },
  {
   "cell_type": "code",
   "execution_count": null,
   "id": "e47d1228",
   "metadata": {},
   "outputs": [],
   "source": []
  }
 ],
 "metadata": {
  "kernelspec": {
   "display_name": "Python 3",
   "language": "python",
   "name": "python3"
  },
  "language_info": {
   "codemirror_mode": {
    "name": "ipython",
    "version": 3
   },
   "file_extension": ".py",
   "mimetype": "text/x-python",
   "name": "python",
   "nbconvert_exporter": "python",
   "pygments_lexer": "ipython3",
   "version": "3.11.2"
  },
  "vscode": {
   "interpreter": {
    "hash": "5238573367df39f7286bb46f9ff5f08f63a01a80960060ce41e3c79b190280fa"
   }
  }
 },
 "nbformat": 4,
 "nbformat_minor": 5
}
