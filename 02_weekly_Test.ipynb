{
 "cells": [
  {
   "cell_type": "markdown",
   "id": "3c221520",
   "metadata": {},
   "source": [
    "# Weekly Test"
   ]
  },
  {
   "cell_type": "markdown",
   "id": "f349fca2",
   "metadata": {},
   "source": [
    "### 1"
   ]
  },
  {
   "cell_type": "code",
   "execution_count": 1,
   "id": "5da5d6d9",
   "metadata": {},
   "outputs": [
    {
     "name": "stdout",
     "output_type": "stream",
     "text": [
      "No\n"
     ]
    }
   ],
   "source": [
    "lst = [1, 2, 4, 6, 7, 14]\n",
    "\n",
    "if 13 in lst:\n",
    "    print(\"Yes\")\n",
    "else:\n",
    "    print(\"No\")"
   ]
  },
  {
   "cell_type": "markdown",
   "id": "5a469f98",
   "metadata": {},
   "source": [
    "### 2"
   ]
  },
  {
   "cell_type": "markdown",
   "id": "6b1f70d5",
   "metadata": {},
   "source": [
    "**lambda function is shorthand function as well as anonymous function use to define short function.**"
   ]
  },
  {
   "cell_type": "code",
   "execution_count": 2,
   "id": "bab4bd1d",
   "metadata": {},
   "outputs": [],
   "source": [
    "# let define add function\n",
    "\n",
    "def add(a, b):\n",
    "    return a+b\n",
    "\n",
    "add = lambda a,b : a + b"
   ]
  },
  {
   "cell_type": "code",
   "execution_count": 3,
   "id": "69feb441",
   "metadata": {},
   "outputs": [
    {
     "data": {
      "text/plain": [
       "7"
      ]
     },
     "execution_count": 3,
     "metadata": {},
     "output_type": "execute_result"
    }
   ],
   "source": [
    "add(3,4) # working in both axpression same"
   ]
  },
  {
   "cell_type": "markdown",
   "id": "8fe7392c",
   "metadata": {},
   "source": [
    "### 3"
   ]
  },
  {
   "cell_type": "code",
   "execution_count": 4,
   "id": "8ef75ae0",
   "metadata": {},
   "outputs": [
    {
     "name": "stdout",
     "output_type": "stream",
     "text": [
      "\n",
      "*\n",
      "**\n",
      "***\n",
      "****\n",
      "*****\n"
     ]
    }
   ],
   "source": [
    "for i in range(6):\n",
    "    for j in range(i):\n",
    "        print(\"*\", end='')\n",
    "    print()"
   ]
  },
  {
   "cell_type": "markdown",
   "id": "d3745bca",
   "metadata": {},
   "source": [
    "### 4"
   ]
  },
  {
   "cell_type": "markdown",
   "id": "911883a3",
   "metadata": {},
   "source": [
    "###### break statements use to stop any loop or any function also it help to exit current statements"
   ]
  },
  {
   "cell_type": "code",
   "execution_count": 5,
   "id": "221d10b9",
   "metadata": {},
   "outputs": [
    {
     "name": "stdout",
     "output_type": "stream",
     "text": [
      "0\n",
      "1\n",
      "2\n",
      "3\n",
      "4\n",
      "5\n"
     ]
    }
   ],
   "source": [
    "for i in range(10):\n",
    "    if i == 6:\n",
    "        break\n",
    "    else:\n",
    "        print(i)"
   ]
  },
  {
   "cell_type": "markdown",
   "id": "6615ae78",
   "metadata": {},
   "source": [
    "### 5"
   ]
  },
  {
   "cell_type": "markdown",
   "id": "4bd0d7c1",
   "metadata": {},
   "source": [
    "###### continue statements use to skip the running statements or in any loop or function continue statements skip remaining statements"
   ]
  },
  {
   "cell_type": "code",
   "execution_count": 6,
   "id": "69209266",
   "metadata": {},
   "outputs": [
    {
     "name": "stdout",
     "output_type": "stream",
     "text": [
      "hello world 0\n",
      "hello world 1\n",
      "hello world 2\n",
      "hello world 3\n",
      "hello world 4\n",
      "hello world 5\n",
      "hello world 6\n",
      "hello world 8\n",
      "hello world 9\n"
     ]
    }
   ],
   "source": [
    "for i in range(10):\n",
    "    if i == 7:\n",
    "        continue\n",
    "    \n",
    "    print(\"hello world\", i)"
   ]
  },
  {
   "cell_type": "markdown",
   "id": "8bed267e",
   "metadata": {},
   "source": [
    "### 6"
   ]
  },
  {
   "cell_type": "markdown",
   "id": "c9547154",
   "metadata": {},
   "source": [
    "###### pass statement use to put blank any block like function, loop, conditional statements, means that pass statement help to define black statements ."
   ]
  },
  {
   "cell_type": "code",
   "execution_count": 7,
   "id": "3b0a6df7",
   "metadata": {},
   "outputs": [
    {
     "ename": "SyntaxError",
     "evalue": "incomplete input (2024327837.py, line 2)",
     "output_type": "error",
     "traceback": [
      "\u001b[1;36m  Cell \u001b[1;32mIn[7], line 2\u001b[1;36m\u001b[0m\n\u001b[1;33m    # it gives error to me beacause of nothing to define int it\u001b[0m\n\u001b[1;37m                                                               ^\u001b[0m\n\u001b[1;31mSyntaxError\u001b[0m\u001b[1;31m:\u001b[0m incomplete input\n"
     ]
    }
   ],
   "source": [
    "for i in range(10): \n",
    "    # it gives error to me beacause of nothing to define int it"
   ]
  },
  {
   "cell_type": "code",
   "execution_count": 8,
   "id": "e668ced3",
   "metadata": {},
   "outputs": [],
   "source": [
    "for i in range(10): \n",
    "    # it smoothly running beacause of we define statements pass\n",
    "    pass"
   ]
  },
  {
   "cell_type": "markdown",
   "id": "469e7b59",
   "metadata": {},
   "source": [
    "### 7"
   ]
  },
  {
   "cell_type": "code",
   "execution_count": 42,
   "id": "9c09e5fd",
   "metadata": {},
   "outputs": [],
   "source": [
    "lst_flt = [1, 2, 3, 4, 5, 6, 7, 8, 9]\n",
    "\n",
    "lst_even = list(filter(lambda lst_flt: lst_flt%2==0, lst_flt))"
   ]
  },
  {
   "cell_type": "code",
   "execution_count": 44,
   "id": "650c4e3d",
   "metadata": {},
   "outputs": [
    {
     "name": "stdout",
     "output_type": "stream",
     "text": [
      "[2, 4, 6, 8]\n"
     ]
    }
   ],
   "source": [
    "print(lst_even)"
   ]
  },
  {
   "cell_type": "code",
   "execution_count": 45,
   "id": "0f47c762",
   "metadata": {},
   "outputs": [
    {
     "name": "stdout",
     "output_type": "stream",
     "text": [
      "2\n",
      "4\n",
      "6\n",
      "8\n"
     ]
    }
   ],
   "source": [
    "for i in lst_even:\n",
    "    print(i)"
   ]
  },
  {
   "cell_type": "code",
   "execution_count": 46,
   "id": "d87baf96",
   "metadata": {},
   "outputs": [],
   "source": [
    "lst_odd = list(filter(lambda lst_flt: lst_flt%2!=0, lst_flt))"
   ]
  },
  {
   "cell_type": "code",
   "execution_count": 47,
   "id": "fd860556",
   "metadata": {},
   "outputs": [
    {
     "name": "stdout",
     "output_type": "stream",
     "text": [
      "1\n",
      "3\n",
      "5\n",
      "7\n",
      "9\n"
     ]
    }
   ],
   "source": [
    "for i in lst_odd:\n",
    "    print(i)"
   ]
  },
  {
   "cell_type": "markdown",
   "id": "686c5bbd",
   "metadata": {},
   "source": [
    "### 8"
   ]
  },
  {
   "cell_type": "code",
   "execution_count": 14,
   "id": "26e09a9a",
   "metadata": {},
   "outputs": [],
   "source": [
    "lsttoT = [1, 2, 3, 4, 5, 6, 7, 8, 9]"
   ]
  },
  {
   "cell_type": "code",
   "execution_count": 15,
   "id": "7e75f55c",
   "metadata": {},
   "outputs": [],
   "source": [
    "lstTuple = tuple(lsttoT)"
   ]
  },
  {
   "cell_type": "code",
   "execution_count": 16,
   "id": "a6abf396",
   "metadata": {},
   "outputs": [
    {
     "data": {
      "text/plain": [
       "(1, 2, 3, 4, 5, 6, 7, 8, 9)"
      ]
     },
     "execution_count": 16,
     "metadata": {},
     "output_type": "execute_result"
    }
   ],
   "source": [
    "lstTuple"
   ]
  },
  {
   "cell_type": "code",
   "execution_count": 17,
   "id": "21b0fe1b",
   "metadata": {},
   "outputs": [
    {
     "data": {
      "text/plain": [
       "tuple"
      ]
     },
     "execution_count": 17,
     "metadata": {},
     "output_type": "execute_result"
    }
   ],
   "source": [
    "type(lstTuple)"
   ]
  },
  {
   "cell_type": "markdown",
   "id": "c1c16016",
   "metadata": {},
   "source": [
    "### 9"
   ]
  },
  {
   "cell_type": "code",
   "execution_count": 18,
   "id": "5145e126",
   "metadata": {},
   "outputs": [
    {
     "name": "stdout",
     "output_type": "stream",
     "text": [
      "5050\n"
     ]
    }
   ],
   "source": [
    "sum = 0\n",
    "for i in range(1, 101):\n",
    "    sum = sum + i\n",
    "    \n",
    "print(sum)"
   ]
  },
  {
   "cell_type": "markdown",
   "id": "fc3f8f53",
   "metadata": {},
   "source": [
    "### 10"
   ]
  },
  {
   "cell_type": "code",
   "execution_count": 19,
   "id": "9d196395",
   "metadata": {},
   "outputs": [],
   "source": [
    "lstRand = [1, 2, 3, 4, 5, 6, 7, 8, 9]\n",
    "\n",
    "import random"
   ]
  },
  {
   "cell_type": "code",
   "execution_count": null,
   "id": "9dd76af9",
   "metadata": {},
   "outputs": [],
   "source": []
  },
  {
   "cell_type": "markdown",
   "id": "d2f3a175",
   "metadata": {},
   "source": [
    "### 11"
   ]
  },
  {
   "cell_type": "code",
   "execution_count": 20,
   "id": "2fbf42eb",
   "metadata": {},
   "outputs": [],
   "source": [
    "a = 20\n",
    "b = 45"
   ]
  },
  {
   "cell_type": "code",
   "execution_count": 21,
   "id": "9fdc8046",
   "metadata": {},
   "outputs": [
    {
     "data": {
      "text/plain": [
       "20"
      ]
     },
     "execution_count": 21,
     "metadata": {},
     "output_type": "execute_result"
    }
   ],
   "source": [
    "a"
   ]
  },
  {
   "cell_type": "code",
   "execution_count": 22,
   "id": "f902296d",
   "metadata": {},
   "outputs": [
    {
     "data": {
      "text/plain": [
       "45"
      ]
     },
     "execution_count": 22,
     "metadata": {},
     "output_type": "execute_result"
    }
   ],
   "source": [
    "b"
   ]
  },
  {
   "cell_type": "code",
   "execution_count": 23,
   "id": "c0229688",
   "metadata": {},
   "outputs": [],
   "source": [
    "a, b = b, a"
   ]
  },
  {
   "cell_type": "code",
   "execution_count": 24,
   "id": "b858b93d",
   "metadata": {},
   "outputs": [
    {
     "data": {
      "text/plain": [
       "45"
      ]
     },
     "execution_count": 24,
     "metadata": {},
     "output_type": "execute_result"
    }
   ],
   "source": [
    "a"
   ]
  },
  {
   "cell_type": "code",
   "execution_count": 25,
   "id": "493dcddf",
   "metadata": {},
   "outputs": [
    {
     "data": {
      "text/plain": [
       "20"
      ]
     },
     "execution_count": 25,
     "metadata": {},
     "output_type": "execute_result"
    }
   ],
   "source": [
    "b"
   ]
  },
  {
   "cell_type": "markdown",
   "id": "875a71bb",
   "metadata": {},
   "source": [
    "### 12"
   ]
  },
  {
   "cell_type": "code",
   "execution_count": 26,
   "id": "e72e6ea6",
   "metadata": {},
   "outputs": [],
   "source": [
    "str='helloworld'"
   ]
  },
  {
   "cell_type": "code",
   "execution_count": 27,
   "id": "4addbd9a",
   "metadata": {},
   "outputs": [
    {
     "data": {
      "text/plain": [
       "'world'"
      ]
     },
     "execution_count": 27,
     "metadata": {},
     "output_type": "execute_result"
    }
   ],
   "source": [
    "str[5:]"
   ]
  },
  {
   "cell_type": "markdown",
   "id": "a691ce04",
   "metadata": {},
   "source": [
    "### 13"
   ]
  },
  {
   "cell_type": "markdown",
   "id": "81d07da4",
   "metadata": {},
   "source": [
    "###### pop method use in list to remove last element, also in pop method we pass element index also to remove an element from the list also they return the removed element."
   ]
  },
  {
   "cell_type": "code",
   "execution_count": 28,
   "id": "3fb30827",
   "metadata": {},
   "outputs": [],
   "source": [
    "lstpop = [12, 45, 24, 57, 34]"
   ]
  },
  {
   "cell_type": "code",
   "execution_count": 29,
   "id": "d28c526b",
   "metadata": {},
   "outputs": [
    {
     "data": {
      "text/plain": [
       "34"
      ]
     },
     "execution_count": 29,
     "metadata": {},
     "output_type": "execute_result"
    }
   ],
   "source": [
    "lstpop.pop()"
   ]
  },
  {
   "cell_type": "code",
   "execution_count": 30,
   "id": "7d86ce3e",
   "metadata": {},
   "outputs": [
    {
     "data": {
      "text/plain": [
       "45"
      ]
     },
     "execution_count": 30,
     "metadata": {},
     "output_type": "execute_result"
    }
   ],
   "source": [
    "lstpop.pop(1)"
   ]
  },
  {
   "cell_type": "markdown",
   "id": "99fcdaaf",
   "metadata": {},
   "source": [
    "### 14"
   ]
  },
  {
   "cell_type": "code",
   "execution_count": 49,
   "id": "0dc62067",
   "metadata": {},
   "outputs": [],
   "source": [
    "student = [{\"name\":\"amit\", \"roll no\": 35}, {\"name\":\"Vijay\", \"roll no\": 37}]"
   ]
  },
  {
   "cell_type": "code",
   "execution_count": 50,
   "id": "391dcc2e",
   "metadata": {},
   "outputs": [
    {
     "data": {
      "text/plain": [
       "[{'name': 'amit', 'roll no': 35}, {'name': 'Vijay', 'roll no': 37}]"
      ]
     },
     "execution_count": 50,
     "metadata": {},
     "output_type": "execute_result"
    }
   ],
   "source": [
    "student"
   ]
  }
 ],
 "metadata": {
  "kernelspec": {
   "display_name": "Python 3 (ipykernel)",
   "language": "python",
   "name": "python3"
  },
  "language_info": {
   "codemirror_mode": {
    "name": "ipython",
    "version": 3
   },
   "file_extension": ".py",
   "mimetype": "text/x-python",
   "name": "python",
   "nbconvert_exporter": "python",
   "pygments_lexer": "ipython3",
   "version": "3.11.2"
  }
 },
 "nbformat": 4,
 "nbformat_minor": 5
}
